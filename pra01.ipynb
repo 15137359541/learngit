{
 "cells": [
  {
   "cell_type": "code",
   "execution_count": 1,
   "metadata": {},
   "outputs": [
    {
     "name": "stdout",
     "output_type": "stream",
     "text": [
      "Wall time: 18.6 s\n"
     ]
    }
   ],
   "source": [
    "%matplotlib inline\n",
    "%time from hikyuu.interactive.interactive import *\n",
    "\n",
    "from pylab import plot"
   ]
  },
  {
   "cell_type": "code",
   "execution_count": 2,
   "metadata": {},
   "outputs": [],
   "source": [
    "#创建一个从2001年1月1日开始的账户，初始资金20万元\n",
    "my_tm = crtTM(Datetime(200101010000), 200000)\n"
   ]
  },
  {
   "cell_type": "code",
   "execution_count": 3,
   "metadata": {},
   "outputs": [
    {
     "data": {
      "text/plain": [
       "<TradeManager {\n",
       "  params: params[precision(i): 2, reinvest(b): 0, save_action(b): 1, support_borrow_cash(b): 0, support_borrow_stock(b): 0, ],\n",
       "  name: SYS,\n",
       "  init_date: 2001-1-1 0:0:0,\n",
       "  init_cash: 200000.00,\n",
       "  firstDatetime: +infinity,\n",
       "  lastDatetime: 2001-1-1 0:0:0,\n",
       "  TradeCostFunc: TradeCostFunc(TC_Zero, params[]),\n",
       "  current cash: 200000.00,\n",
       "  current market_value: 0.00,\n",
       "  current short_market_value: 0.00,\n",
       "  current base_cash: 200000.00,\n",
       "  current base_asset: 0.00,\n",
       "  current borrow_cash: 0.00,\n",
       "  current borrow_asset: 0.00,\n",
       "  Position: \n",
       "  Short Position: \n",
       "  Borrow Stock: \n",
       "}>"
      ]
     },
     "execution_count": 3,
     "metadata": {},
     "output_type": "execute_result"
    }
   ],
   "source": [
    "my_tm"
   ]
  },
  {
   "cell_type": "code",
   "execution_count": 4,
   "metadata": {},
   "outputs": [
    {
     "name": "stdout",
     "output_type": "stream",
     "text": [
      "System{\n",
      "  SYS_Simple,\n",
      "  params[cn_open_position(b): 0, delay(b): 1, delay_use_current_price(b): 1, ev_open_position(b): 0, ignore_sell_sg(b): 0, max_delay_count(i): 3, support_borrow_cash(b): 0, support_borrow_stock(b): 0, tp_delay_n(i): 3, tp_monotonic(b): 1, ],\n",
      "  Environment(NULL),\n",
      "  Condition(NULL),\n",
      "  MoneyManager(NULL),\n",
      "  Signal(NULL),\n",
      "  Stoploss(NULL),\n",
      "  Stoploss(NULL),\n",
      "  ProfitGoal(NULL),\n",
      "  Slippage(NULL),\n",
      "\n",
      "  TradeManager {\n",
      "  params: params[precision(i): 2, reinvest(b): 0, save_action(b): 1, support_borrow_cash(b): 0, support_borrow_stock(b): 0, ],\n",
      "  name: SYS,\n",
      "  init_date: 2001-1-1 0:0:0,\n",
      "  init_cash: 200000.00,\n",
      "  firstDatetime: +infinity,\n",
      "  lastDatetime: 2001-1-1 0:0:0,\n",
      "  TradeCostFunc: TradeCostFunc(TC_Zero, params[]),\n",
      "  current cash: 200000.00,\n",
      "  current market_value: 0.00,\n",
      "  current short_market_value: 0.00,\n",
      "  current base_cash: 200000.00,\n",
      "  current base_asset: 0.00,\n",
      "  current borrow_cash: 0.00,\n",
      "  current borrow_asset: 0.00,\n",
      "  Position: \n",
      "  Short Position: \n",
      "  Borrow Stock: \n",
      "},\n",
      "}\n"
     ]
    }
   ],
   "source": [
    "my_sys = SYS_Simple(tm=my_tm)\n",
    "print(my_sys)"
   ]
  },
  {
   "cell_type": "code",
   "execution_count": 5,
   "metadata": {},
   "outputs": [],
   "source": [
    "def TurtleSG(self):\n",
    "     n1 = self.getParam(\"n1\")\n",
    "     n2 = self.getParam(\"n2\")\n",
    "     k = self.getTO()\n",
    "     c = CLOSE(k)\n",
    "     h = REF(HHV(c, n1), 1) #前n日高点\n",
    "     L = REF(LLV(c, n2), 1) #前n日低点\n",
    "     for i in range(h.discard, len(k)):\n",
    "         if (c[i] >= h[i]):\n",
    "             self._addBuySignal(k[i].datetime)\n",
    "         elif (c[i] <= L[i]):\n",
    "             self._addSellSignal(k[i].datetime)"
   ]
  },
  {
   "cell_type": "code",
   "execution_count": 6,
   "metadata": {},
   "outputs": [],
   "source": [
    "my_sg = crtSG(TurtleSG, {'n1': 20, 'n2': 10}, 'TurtleSG')\n",
    "\n",
    "my_mm = MM_FixedCount(1000)\n",
    "\n",
    "s = sm['sz000001']\n",
    "query = QueryByDate(Datetime(200101010000), Datetime(201705010000))\n",
    "\n",
    "my_sys.mm = my_mm\n",
    "my_sys.sg = my_sg\n",
    "my_sys.run(s, query)"
   ]
  },
  {
   "cell_type": "code",
   "execution_count": 7,
   "metadata": {},
   "outputs": [
    {
     "data": {
      "text/plain": [
       "<hikyuu._hikyuu.DatetimeList at 0x95d18b8>"
      ]
     },
     "execution_count": 7,
     "metadata": {},
     "output_type": "execute_result"
    }
   ],
   "source": [
    "calendar = sm.getTradingCalendar(query, 'SZ')\n",
    "calendar"
   ]
  },
  {
   "cell_type": "code",
   "execution_count": 8,
   "metadata": {},
   "outputs": [],
   "source": [
    "x1 = my_tm.getFundsCurve(calendar, Query.DAY)"
   ]
  },
  {
   "cell_type": "code",
   "execution_count": 9,
   "metadata": {},
   "outputs": [
    {
     "data": {
      "image/png": "[encoded data removed]",
      "text/plain": [
       "<Figure size 720x576 with 1 Axes>"
      ]
     },
     "metadata": {},
     "output_type": "display_data"
    }
   ],
   "source": [
    "PRICELIST(x1).plot()"
   ]
  },
  {
   "cell_type": "code",
   "execution_count": null,
   "metadata": {},
   "outputs": [],
   "source": []
  }
 ],
 "metadata": {
  "kernelspec": {
   "display_name": "Python 3",
   "language": "python",
   "name": "python3"
  },
  "language_info": {
   "codemirror_mode": {
    "name": "ipython",
    "version": 3
   },
   "file_extension": ".py",
   "mimetype": "text/x-python",
   "name": "python",
   "nbconvert_exporter": "python",
   "pygments_lexer": "ipython3",
   "version": "3.6.5"
  }
 },
 "nbformat": 4,
 "nbformat_minor": 2
}
